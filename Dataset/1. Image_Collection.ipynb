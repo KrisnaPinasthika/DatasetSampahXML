{
 "cells": [
  {
   "cell_type": "markdown",
   "metadata": {},
   "source": [
    "# 1. Import Dependencies"
   ]
  },
  {
   "cell_type": "code",
   "execution_count": 1,
   "metadata": {},
   "outputs": [],
   "source": [
    "import os"
   ]
  },
  {
   "cell_type": "markdown",
   "metadata": {},
   "source": [
    "# 2. Image Labelling"
   ]
  },
  {
   "cell_type": "code",
   "execution_count": 2,
   "metadata": {},
   "outputs": [
    {
     "name": "stdout",
     "output_type": "stream",
     "text": [
      "Requirement already satisfied: pyqt5 in c:\\users\\user\\appdata\\local\\programs\\python\\python39\\lib\\site-packages (5.15.6)\n",
      "Requirement already satisfied: lxml in c:\\users\\user\\appdata\\local\\programs\\python\\python39\\lib\\site-packages (4.8.0)\n",
      "Requirement already satisfied: PyQt5-Qt5>=5.15.2 in c:\\users\\user\\appdata\\local\\programs\\python\\python39\\lib\\site-packages (from pyqt5) (5.15.2)\n",
      "Requirement already satisfied: PyQt5-sip<13,>=12.8 in c:\\users\\user\\appdata\\local\\programs\\python\\python39\\lib\\site-packages (from pyqt5) (12.10.1)\n"
     ]
    },
    {
     "name": "stderr",
     "output_type": "stream",
     "text": [
      "WARNING: Ignoring invalid distribution -illow (c:\\users\\user\\appdata\\local\\programs\\python\\python39\\lib\\site-packages)\n",
      "WARNING: Ignoring invalid distribution -illow (c:\\users\\user\\appdata\\local\\programs\\python\\python39\\lib\\site-packages)\n",
      "WARNING: Ignoring invalid distribution -illow (c:\\users\\user\\appdata\\local\\programs\\python\\python39\\lib\\site-packages)\n",
      "WARNING: Ignoring invalid distribution -illow (c:\\users\\user\\appdata\\local\\programs\\python\\python39\\lib\\site-packages)\n",
      "WARNING: Ignoring invalid distribution -illow (c:\\users\\user\\appdata\\local\\programs\\python\\python39\\lib\\site-packages)\n"
     ]
    }
   ],
   "source": [
    "!pip install --upgrade pyqt5 lxml"
   ]
  },
  {
   "cell_type": "code",
   "execution_count": 3,
   "metadata": {},
   "outputs": [],
   "source": [
    "LABELIMG_PATH = os.path.join('Tensorflow', 'labelimg')"
   ]
  },
  {
   "cell_type": "code",
   "execution_count": 4,
   "metadata": {},
   "outputs": [],
   "source": [
    "if not os.path.exists(LABELIMG_PATH):\n",
    "    !mkdir {LABELIMG_PATH}\n",
    "    !git clone https://github.com/tzutalin/labelImg {LABELIMG_PATH}"
   ]
  },
  {
   "cell_type": "code",
   "execution_count": 5,
   "metadata": {},
   "outputs": [],
   "source": [
    "if os.name == 'posix':\n",
    "    !make qt5py3\n",
    "if os.name =='nt':\n",
    "    !cd {LABELIMG_PATH} && pyrcc5 -o libs/resources.py resources.qrc"
   ]
  },
  {
   "cell_type": "code",
   "execution_count": 6,
   "metadata": {},
   "outputs": [
    {
     "name": "stdout",
     "output_type": "stream",
     "text": [
      "Image:C:\\Users\\user\\Documents\\VisualStudioCode\\Bangkit2022 - Test Dataset\\Dataset\\gelaskaca\\glass19.jpg -> Annotation:C:/Users/user/Documents/VisualStudioCode/Bangkit2022 - Test Dataset/Dataset/gelaskaca/glass19.xml\n",
      "Image:C:\\Users\\user\\Documents\\VisualStudioCode\\Bangkit2022 - Test Dataset\\Dataset\\gelaskaca\\glass20.jpg -> Annotation:C:/Users/user/Documents/VisualStudioCode/Bangkit2022 - Test Dataset/Dataset/gelaskaca/glass20.xml\n",
      "Image:C:\\Users\\user\\Documents\\VisualStudioCode\\Bangkit2022 - Test Dataset\\Dataset\\gelaskaca\\glass22.jpg -> Annotation:C:/Users/user/Documents/VisualStudioCode/Bangkit2022 - Test Dataset/Dataset/gelaskaca/glass22.xml\n",
      "Image:C:\\Users\\user\\Documents\\VisualStudioCode\\Bangkit2022 - Test Dataset\\Dataset\\gelaskaca\\glass19.jpg -> Annotation:C:/Users/user/Documents/VisualStudioCode/Bangkit2022 - Test Dataset/Dataset/gelaskaca/glass19.xml\n",
      "Image:C:\\Users\\user\\Documents\\VisualStudioCode\\Bangkit2022 - Test Dataset\\Dataset\\gelaskaca\\glass20.jpg -> Annotation:C:/Users/user/Documents/VisualStudioCode/Bangkit2022 - Test Dataset/Dataset/gelaskaca/glass20.xml\n",
      "Image:C:\\Users\\user\\Documents\\VisualStudioCode\\Bangkit2022 - Test Dataset\\Dataset\\gelaskaca\\glass22.jpg -> Annotation:C:/Users/user/Documents/VisualStudioCode/Bangkit2022 - Test Dataset/Dataset/gelaskaca/glass22.xml\n",
      "Image:C:\\Users\\user\\Documents\\VisualStudioCode\\Bangkit2022 - Test Dataset\\Dataset\\gelaskaca\\glass23.jpg -> Annotation:C:/Users/user/Documents/VisualStudioCode/Bangkit2022 - Test Dataset/Dataset/gelaskaca/glass23.xml\n",
      "Image:C:\\Users\\user\\Documents\\VisualStudioCode\\Bangkit2022 - Test Dataset\\Dataset\\gelaskaca\\glass26.jpg -> Annotation:C:/Users/user/Documents/VisualStudioCode/Bangkit2022 - Test Dataset/Dataset/gelaskaca/glass26.xml\n",
      "Image:C:\\Users\\user\\Documents\\VisualStudioCode\\Bangkit2022 - Test Dataset\\Dataset\\gelaskaca\\glass27.jpg -> Annotation:C:/Users/user/Documents/VisualStudioCode/Bangkit2022 - Test Dataset/Dataset/gelaskaca/glass27.xml\n",
      "ESC press\n",
      "Cancel creation.\n",
      "Image:C:\\Users\\user\\Documents\\VisualStudioCode\\Bangkit2022 - Test Dataset\\Dataset\\gelaskaca\\glass28.jpg -> Annotation:C:/Users/user/Documents/VisualStudioCode/Bangkit2022 - Test Dataset/Dataset/gelaskaca/glass28.xml\n",
      "Image:C:\\Users\\user\\Documents\\VisualStudioCode\\Bangkit2022 - Test Dataset\\Dataset\\gelaskaca\\glass29.jpg -> Annotation:C:/Users/user/Documents/VisualStudioCode/Bangkit2022 - Test Dataset/Dataset/gelaskaca/glass29.xml\n",
      "Image:C:\\Users\\user\\Documents\\VisualStudioCode\\Bangkit2022 - Test Dataset\\Dataset\\gelaskaca\\glass30.jpg -> Annotation:C:/Users/user/Documents/VisualStudioCode/Bangkit2022 - Test Dataset/Dataset/gelaskaca/glass30.xml\n",
      "Image:C:\\Users\\user\\Documents\\VisualStudioCode\\Bangkit2022 - Test Dataset\\Dataset\\gelaskaca\\glass32.jpg -> Annotation:C:/Users/user/Documents/VisualStudioCode/Bangkit2022 - Test Dataset/Dataset/gelaskaca/glass32.xml\n",
      "Image:C:\\Users\\user\\Documents\\VisualStudioCode\\Bangkit2022 - Test Dataset\\Dataset\\gelaskaca\\glass33.jpg -> Annotation:C:/Users/user/Documents/VisualStudioCode/Bangkit2022 - Test Dataset/Dataset/gelaskaca/glass33.xml\n",
      "Image:C:\\Users\\user\\Documents\\VisualStudioCode\\Bangkit2022 - Test Dataset\\Dataset\\gelaskaca\\glass36.jpg -> Annotation:C:/Users/user/Documents/VisualStudioCode/Bangkit2022 - Test Dataset/Dataset/gelaskaca/glass36.xml\n",
      "Image:C:\\Users\\user\\Documents\\VisualStudioCode\\Bangkit2022 - Test Dataset\\Dataset\\gelaskaca\\glass37.jpg -> Annotation:C:/Users/user/Documents/VisualStudioCode/Bangkit2022 - Test Dataset/Dataset/gelaskaca/glass37.xml\n",
      "Image:C:\\Users\\user\\Documents\\VisualStudioCode\\Bangkit2022 - Test Dataset\\Dataset\\gelaskaca\\glass38.jpg -> Annotation:C:/Users/user/Documents/VisualStudioCode/Bangkit2022 - Test Dataset/Dataset/gelaskaca/glass38.xml\n",
      "Image:C:\\Users\\user\\Documents\\VisualStudioCode\\Bangkit2022 - Test Dataset\\Dataset\\gelaskaca\\glass40.jpg -> Annotation:C:/Users/user/Documents/VisualStudioCode/Bangkit2022 - Test Dataset/Dataset/gelaskaca/glass40.xml\n",
      "Image:C:\\Users\\user\\Documents\\VisualStudioCode\\Bangkit2022 - Test Dataset\\Dataset\\gelaskaca\\glass44.jpg -> Annotation:C:/Users/user/Documents/VisualStudioCode/Bangkit2022 - Test Dataset/Dataset/gelaskaca/glass44.xml\n",
      "Image:C:\\Users\\user\\Documents\\VisualStudioCode\\Bangkit2022 - Test Dataset\\Dataset\\gelaskaca\\glass45.jpg -> Annotation:C:/Users/user/Documents/VisualStudioCode/Bangkit2022 - Test Dataset/Dataset/gelaskaca/glass45.xml\n",
      "Cancel creation.\n",
      "Image:C:\\Users\\user\\Documents\\VisualStudioCode\\Bangkit2022 - Test Dataset\\Dataset\\kaleng\\metal1.jpg -> Annotation:C:/Users/user/Documents/VisualStudioCode/Bangkit2022 - Test Dataset/Dataset/kaleng/metal1.xml\n",
      "Image:C:\\Users\\user\\Documents\\VisualStudioCode\\Bangkit2022 - Test Dataset\\Dataset\\kaleng\\metal3.jpg -> Annotation:C:/Users/user/Documents/VisualStudioCode/Bangkit2022 - Test Dataset/Dataset/kaleng/metal3.xml\n",
      "Image:C:\\Users\\user\\Documents\\VisualStudioCode\\Bangkit2022 - Test Dataset\\Dataset\\kaleng\\metal6.jpg -> Annotation:C:/Users/user/Documents/VisualStudioCode/Bangkit2022 - Test Dataset/Dataset/kaleng/metal6.xml\n",
      "Image:C:\\Users\\user\\Documents\\VisualStudioCode\\Bangkit2022 - Test Dataset\\Dataset\\kaleng\\metal7.jpg -> Annotation:C:/Users/user/Documents/VisualStudioCode/Bangkit2022 - Test Dataset/Dataset/kaleng/metal7.xml\n",
      "Image:C:\\Users\\user\\Documents\\VisualStudioCode\\Bangkit2022 - Test Dataset\\Dataset\\kaleng\\metal8.jpg -> Annotation:C:/Users/user/Documents/VisualStudioCode/Bangkit2022 - Test Dataset/Dataset/kaleng/metal8.xml\n",
      "Image:C:\\Users\\user\\Documents\\VisualStudioCode\\Bangkit2022 - Test Dataset\\Dataset\\kaleng\\metal9.jpg -> Annotation:C:/Users/user/Documents/VisualStudioCode/Bangkit2022 - Test Dataset/Dataset/kaleng/metal9.xml\n",
      "Image:C:\\Users\\user\\Documents\\VisualStudioCode\\Bangkit2022 - Test Dataset\\Dataset\\kaleng\\metal13.jpg -> Annotation:C:/Users/user/Documents/VisualStudioCode/Bangkit2022 - Test Dataset/Dataset/kaleng/metal13.xml\n",
      "Image:C:\\Users\\user\\Documents\\VisualStudioCode\\Bangkit2022 - Test Dataset\\Dataset\\kaleng\\metal14.jpg -> Annotation:C:/Users/user/Documents/VisualStudioCode/Bangkit2022 - Test Dataset/Dataset/kaleng/metal14.xml\n",
      "Image:C:\\Users\\user\\Documents\\VisualStudioCode\\Bangkit2022 - Test Dataset\\Dataset\\kaleng\\metal18.jpg -> Annotation:C:/Users/user/Documents/VisualStudioCode/Bangkit2022 - Test Dataset/Dataset/kaleng/metal18.xml\n",
      "Image:C:\\Users\\user\\Documents\\VisualStudioCode\\Bangkit2022 - Test Dataset\\Dataset\\kaleng\\metal21.jpg -> Annotation:C:/Users/user/Documents/VisualStudioCode/Bangkit2022 - Test Dataset/Dataset/kaleng/metal21.xml\n",
      "Image:C:\\Users\\user\\Documents\\VisualStudioCode\\Bangkit2022 - Test Dataset\\Dataset\\kaleng\\metal23.jpg -> Annotation:C:/Users/user/Documents/VisualStudioCode/Bangkit2022 - Test Dataset/Dataset/kaleng/metal23.xml\n",
      "Image:C:\\Users\\user\\Documents\\VisualStudioCode\\Bangkit2022 - Test Dataset\\Dataset\\kaleng\\metal30.jpg -> Annotation:C:/Users/user/Documents/VisualStudioCode/Bangkit2022 - Test Dataset/Dataset/kaleng/metal30.xml\n",
      "Image:C:\\Users\\user\\Documents\\VisualStudioCode\\Bangkit2022 - Test Dataset\\Dataset\\kaleng\\metal33.jpg -> Annotation:C:/Users/user/Documents/VisualStudioCode/Bangkit2022 - Test Dataset/Dataset/kaleng/metal33.xml\n",
      "Image:C:\\Users\\user\\Documents\\VisualStudioCode\\Bangkit2022 - Test Dataset\\Dataset\\kaleng\\metal34.jpg -> Annotation:C:/Users/user/Documents/VisualStudioCode/Bangkit2022 - Test Dataset/Dataset/kaleng/metal34.xml\n",
      "Image:C:\\Users\\user\\Documents\\VisualStudioCode\\Bangkit2022 - Test Dataset\\Dataset\\kaleng\\metal38.jpg -> Annotation:C:/Users/user/Documents/VisualStudioCode/Bangkit2022 - Test Dataset/Dataset/kaleng/metal38.xml\n",
      "Image:C:\\Users\\user\\Documents\\VisualStudioCode\\Bangkit2022 - Test Dataset\\Dataset\\kaleng\\metal43.jpg -> Annotation:C:/Users/user/Documents/VisualStudioCode/Bangkit2022 - Test Dataset/Dataset/kaleng/metal43.xml\n",
      "Image:C:\\Users\\user\\Documents\\VisualStudioCode\\Bangkit2022 - Test Dataset\\Dataset\\kaleng\\metal45.jpg -> Annotation:C:/Users/user/Documents/VisualStudioCode/Bangkit2022 - Test Dataset/Dataset/kaleng/metal45.xml\n",
      "Image:C:\\Users\\user\\Documents\\VisualStudioCode\\Bangkit2022 - Test Dataset\\Dataset\\kaleng\\metal47.jpg -> Annotation:C:/Users/user/Documents/VisualStudioCode/Bangkit2022 - Test Dataset/Dataset/kaleng/metal47.xml\n",
      "Image:C:\\Users\\user\\Documents\\VisualStudioCode\\Bangkit2022 - Test Dataset\\Dataset\\kaleng\\metal49.jpg -> Annotation:C:/Users/user/Documents/VisualStudioCode/Bangkit2022 - Test Dataset/Dataset/kaleng/metal49.xml\n",
      "Image:C:\\Users\\user\\Documents\\VisualStudioCode\\Bangkit2022 - Test Dataset\\Dataset\\kaleng\\metal54.jpg -> Annotation:C:/Users/user/Documents/VisualStudioCode/Bangkit2022 - Test Dataset/Dataset/kaleng/metal54.xml\n",
      "Image:C:\\Users\\user\\Documents\\VisualStudioCode\\Bangkit2022 - Test Dataset\\Dataset\\kaleng\\metal58.jpg -> Annotation:C:/Users/user/Documents/VisualStudioCode/Bangkit2022 - Test Dataset/Dataset/kaleng/metal58.xml\n",
      "Image:C:\\Users\\user\\Documents\\VisualStudioCode\\Bangkit2022 - Test Dataset\\Dataset\\kaleng\\metal62.jpg -> Annotation:C:/Users/user/Documents/VisualStudioCode/Bangkit2022 - Test Dataset/Dataset/kaleng/metal62.xml\n",
      "ESC press\n",
      "Cancel creation.\n",
      "Image:C:\\Users\\user\\Documents\\VisualStudioCode\\Bangkit2022 - Test Dataset\\Dataset\\kaleng\\metal64.jpg -> Annotation:C:/Users/user/Documents/VisualStudioCode/Bangkit2022 - Test Dataset/Dataset/kaleng/metal64.xml\n",
      "Cancel creation.\n",
      "Image:C:\\Users\\user\\Documents\\VisualStudioCode\\Bangkit2022 - Test Dataset\\Dataset\\kaleng\\metal66.jpg -> Annotation:C:/Users/user/Documents/VisualStudioCode/Bangkit2022 - Test Dataset/Dataset/kaleng/metal66.xml\n"
     ]
    }
   ],
   "source": [
    "# Nanti muncul python gui, pakai python gui itu buat extract fitur\n",
    "!cd {LABELIMG_PATH} && python labelImg.py"
   ]
  }
 ],
 "metadata": {
  "interpreter": {
   "hash": "82ed002fa2d4956f5c6aec99bcefe0f73a9f79882f3c9e2319b14958a5896ac5"
  },
  "kernelspec": {
   "display_name": "Python 3.9.6 64-bit",
   "language": "python",
   "name": "python3"
  },
  "language_info": {
   "codemirror_mode": {
    "name": "ipython",
    "version": 3
   },
   "file_extension": ".py",
   "mimetype": "text/x-python",
   "name": "python",
   "nbconvert_exporter": "python",
   "pygments_lexer": "ipython3",
   "version": "3.9.6"
  }
 },
 "nbformat": 4,
 "nbformat_minor": 2
}
