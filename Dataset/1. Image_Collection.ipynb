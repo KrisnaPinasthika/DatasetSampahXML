{
 "cells": [
  {
   "cell_type": "markdown",
   "metadata": {},
   "source": [
    "# 1. Import Dependencies"
   ]
  },
  {
   "cell_type": "code",
   "execution_count": 2,
   "metadata": {},
   "outputs": [],
   "source": [
    "import os"
   ]
  },
  {
   "cell_type": "markdown",
   "metadata": {},
   "source": [
    "# 2. Image Labelling"
   ]
  },
  {
   "cell_type": "code",
   "execution_count": null,
   "metadata": {},
   "outputs": [],
   "source": [
    "!pip install --upgrade pyqt5 lxml"
   ]
  },
  {
   "cell_type": "code",
   "execution_count": 3,
   "metadata": {},
   "outputs": [],
   "source": [
    "LABELIMG_PATH = os.path.join('Tensorflow', 'labelimg')"
   ]
  },
  {
   "cell_type": "code",
   "execution_count": 4,
   "metadata": {},
   "outputs": [],
   "source": [
    "if not os.path.exists(LABELIMG_PATH):\n",
    "    !mkdir {LABELIMG_PATH}\n",
    "    !git clone https://github.com/tzutalin/labelImg {LABELIMG_PATH}"
   ]
  },
  {
   "cell_type": "code",
   "execution_count": 5,
   "metadata": {},
   "outputs": [],
   "source": [
    "if os.name == 'posix':\n",
    "    !make qt5py3\n",
    "if os.name =='nt':\n",
    "    !cd {LABELIMG_PATH} && pyrcc5 -o libs/resources.py resources.qrc"
   ]
  },
  {
   "cell_type": "code",
   "execution_count": 7,
   "metadata": {},
   "outputs": [
    {
     "name": "stdout",
     "output_type": "stream",
     "text": [
      "Cancel creation.\n",
      "Image:C:\\Users\\user\\Documents\\VisualStudioCode\\Bangkit2022 - Test Dataset\\Dataset\\botolplastik\\plastic4.jpg -> Annotation:C:/Users/user/Documents/VisualStudioCode/Bangkit2022 - Test Dataset/Dataset/botolplastik/plastic4.xml\n",
      "Image:C:\\Users\\user\\Documents\\VisualStudioCode\\Bangkit2022 - Test Dataset\\Dataset\\botolplastik\\plastic5.jpg -> Annotation:C:/Users/user/Documents/VisualStudioCode/Bangkit2022 - Test Dataset/Dataset/botolplastik/plastic5.xml\n",
      "Image:C:\\Users\\user\\Documents\\VisualStudioCode\\Bangkit2022 - Test Dataset\\Dataset\\botolplastik\\plastic6.jpg -> Annotation:C:/Users/user/Documents/VisualStudioCode/Bangkit2022 - Test Dataset/Dataset/botolplastik/plastic6.xml\n",
      "Image:C:\\Users\\user\\Documents\\VisualStudioCode\\Bangkit2022 - Test Dataset\\Dataset\\botolplastik\\plastic7.jpg -> Annotation:C:/Users/user/Documents/VisualStudioCode/Bangkit2022 - Test Dataset/Dataset/botolplastik/plastic7.xml\n",
      "Image:C:\\Users\\user\\Documents\\VisualStudioCode\\Bangkit2022 - Test Dataset\\Dataset\\botolplastik\\plastic8.jpg -> Annotation:C:/Users/user/Documents/VisualStudioCode/Bangkit2022 - Test Dataset/Dataset/botolplastik/plastic8.xml\n",
      "Image:C:\\Users\\user\\Documents\\VisualStudioCode\\Bangkit2022 - Test Dataset\\Dataset\\botolplastik\\plastic9.jpg -> Annotation:C:/Users/user/Documents/VisualStudioCode/Bangkit2022 - Test Dataset/Dataset/botolplastik/plastic9.xml\n",
      "Image:C:\\Users\\user\\Documents\\VisualStudioCode\\Bangkit2022 - Test Dataset\\Dataset\\botolplastik\\plastic10.jpg -> Annotation:C:/Users/user/Documents/VisualStudioCode/Bangkit2022 - Test Dataset/Dataset/botolplastik/plastic10.xml\n",
      "Image:C:\\Users\\user\\Documents\\VisualStudioCode\\Bangkit2022 - Test Dataset\\Dataset\\botolplastik\\plastic11.jpg -> Annotation:C:/Users/user/Documents/VisualStudioCode/Bangkit2022 - Test Dataset/Dataset/botolplastik/plastic11.xml\n",
      "Image:C:\\Users\\user\\Documents\\VisualStudioCode\\Bangkit2022 - Test Dataset\\Dataset\\botolplastik\\plastic14.jpg -> Annotation:C:/Users/user/Documents/VisualStudioCode/Bangkit2022 - Test Dataset/Dataset/botolplastik/plastic14.xml\n",
      "Image:C:\\Users\\user\\Documents\\VisualStudioCode\\Bangkit2022 - Test Dataset\\Dataset\\botolplastik\\plastic21.jpg -> Annotation:C:/Users/user/Documents/VisualStudioCode/Bangkit2022 - Test Dataset/Dataset/botolplastik/plastic21.xml\n",
      "Image:C:\\Users\\user\\Documents\\VisualStudioCode\\Bangkit2022 - Test Dataset\\Dataset\\botolplastik\\plastic24.jpg -> Annotation:C:/Users/user/Documents/VisualStudioCode/Bangkit2022 - Test Dataset/Dataset/botolplastik/plastic24.xml\n",
      "Image:C:\\Users\\user\\Documents\\VisualStudioCode\\Bangkit2022 - Test Dataset\\Dataset\\botolplastik\\plastic29.jpg -> Annotation:C:/Users/user/Documents/VisualStudioCode/Bangkit2022 - Test Dataset/Dataset/botolplastik/plastic29.xml\n",
      "Image:C:\\Users\\user\\Documents\\VisualStudioCode\\Bangkit2022 - Test Dataset\\Dataset\\botolplastik\\plastic32.jpg -> Annotation:C:/Users/user/Documents/VisualStudioCode/Bangkit2022 - Test Dataset/Dataset/botolplastik/plastic32.xml\n",
      "Image:C:\\Users\\user\\Documents\\VisualStudioCode\\Bangkit2022 - Test Dataset\\Dataset\\botolplastik\\plastic34.jpg -> Annotation:C:/Users/user/Documents/VisualStudioCode/Bangkit2022 - Test Dataset/Dataset/botolplastik/plastic34.xml\n",
      "Image:C:\\Users\\user\\Documents\\VisualStudioCode\\Bangkit2022 - Test Dataset\\Dataset\\botolplastik\\plastic36.jpg -> Annotation:C:/Users/user/Documents/VisualStudioCode/Bangkit2022 - Test Dataset/Dataset/botolplastik/plastic36.xml\n",
      "Image:C:\\Users\\user\\Documents\\VisualStudioCode\\Bangkit2022 - Test Dataset\\Dataset\\botolplastik\\plastic37.jpg -> Annotation:C:/Users/user/Documents/VisualStudioCode/Bangkit2022 - Test Dataset/Dataset/botolplastik/plastic37.xml\n",
      "Image:C:\\Users\\user\\Documents\\VisualStudioCode\\Bangkit2022 - Test Dataset\\Dataset\\botolplastik\\plastic38.jpg -> Annotation:C:/Users/user/Documents/VisualStudioCode/Bangkit2022 - Test Dataset/Dataset/botolplastik/plastic38.xml\n",
      "Image:C:\\Users\\user\\Documents\\VisualStudioCode\\Bangkit2022 - Test Dataset\\Dataset\\botolplastik\\plastic44.jpg -> Annotation:C:/Users/user/Documents/VisualStudioCode/Bangkit2022 - Test Dataset/Dataset/botolplastik/plastic44.xml\n",
      "Image:C:\\Users\\user\\Documents\\VisualStudioCode\\Bangkit2022 - Test Dataset\\Dataset\\botolplastik\\plastic47.jpg -> Annotation:C:/Users/user/Documents/VisualStudioCode/Bangkit2022 - Test Dataset/Dataset/botolplastik/plastic47.xml\n",
      "Image:C:\\Users\\user\\Documents\\VisualStudioCode\\Bangkit2022 - Test Dataset\\Dataset\\botolplastik\\plastic49.jpg -> Annotation:C:/Users/user/Documents/VisualStudioCode/Bangkit2022 - Test Dataset/Dataset/botolplastik/plastic49.xml\n",
      "Image:C:\\Users\\user\\Documents\\VisualStudioCode\\Bangkit2022 - Test Dataset\\Dataset\\botolplastik\\plastic51.jpg -> Annotation:C:/Users/user/Documents/VisualStudioCode/Bangkit2022 - Test Dataset/Dataset/botolplastik/plastic51.xml\n",
      "Image:C:\\Users\\user\\Documents\\VisualStudioCode\\Bangkit2022 - Test Dataset\\Dataset\\botolplastik\\plastic57.jpg -> Annotation:C:/Users/user/Documents/VisualStudioCode/Bangkit2022 - Test Dataset/Dataset/botolplastik/plastic57.xml\n",
      "Image:C:\\Users\\user\\Documents\\VisualStudioCode\\Bangkit2022 - Test Dataset\\Dataset\\botolplastik\\plastic60.jpg -> Annotation:C:/Users/user/Documents/VisualStudioCode/Bangkit2022 - Test Dataset/Dataset/botolplastik/plastic60.xml\n",
      "Image:C:\\Users\\user\\Documents\\VisualStudioCode\\Bangkit2022 - Test Dataset\\Dataset\\botolplastik\\plastic62.jpg -> Annotation:C:/Users/user/Documents/VisualStudioCode/Bangkit2022 - Test Dataset/Dataset/botolplastik/plastic62.xml\n",
      "Image:C:\\Users\\user\\Documents\\VisualStudioCode\\Bangkit2022 - Test Dataset\\Dataset\\gelaskaca\\glass1.jpg -> Annotation:C:/Users/user/Documents/VisualStudioCode/Bangkit2022 - Test Dataset/Dataset/gelaskaca/glass1.xml\n",
      "Image:C:\\Users\\user\\Documents\\VisualStudioCode\\Bangkit2022 - Test Dataset\\Dataset\\gelaskaca\\glass7.jpg -> Annotation:C:/Users/user/Documents/VisualStudioCode/Bangkit2022 - Test Dataset/Dataset/gelaskaca/glass7.xml\n",
      "Image:C:\\Users\\user\\Documents\\VisualStudioCode\\Bangkit2022 - Test Dataset\\Dataset\\gelaskaca\\glass8.jpg -> Annotation:C:/Users/user/Documents/VisualStudioCode/Bangkit2022 - Test Dataset/Dataset/gelaskaca/glass8.xml\n",
      "Image:C:\\Users\\user\\Documents\\VisualStudioCode\\Bangkit2022 - Test Dataset\\Dataset\\gelaskaca\\glass9.jpg -> Annotation:C:/Users/user/Documents/VisualStudioCode/Bangkit2022 - Test Dataset/Dataset/gelaskaca/glass9.xml\n",
      "ESC press\n",
      "Cancel creation.\n",
      "Image:C:\\Users\\user\\Documents\\VisualStudioCode\\Bangkit2022 - Test Dataset\\Dataset\\gelaskaca\\glass10.jpg -> Annotation:C:/Users/user/Documents/VisualStudioCode/Bangkit2022 - Test Dataset/Dataset/gelaskaca/glass10.xml\n",
      "Image:C:\\Users\\user\\Documents\\VisualStudioCode\\Bangkit2022 - Test Dataset\\Dataset\\gelaskaca\\glass11.jpg -> Annotation:C:/Users/user/Documents/VisualStudioCode/Bangkit2022 - Test Dataset/Dataset/gelaskaca/glass11.xml\n",
      "Image:C:\\Users\\user\\Documents\\VisualStudioCode\\Bangkit2022 - Test Dataset\\Dataset\\gelaskaca\\glass17.jpg -> Annotation:C:/Users/user/Documents/VisualStudioCode/Bangkit2022 - Test Dataset/Dataset/gelaskaca/glass17.xml\n",
      "Image:C:\\Users\\user\\Documents\\VisualStudioCode\\Bangkit2022 - Test Dataset\\Dataset\\gelaskaca\\glass18.jpg -> Annotation:C:/Users/user/Documents/VisualStudioCode/Bangkit2022 - Test Dataset/Dataset/gelaskaca/glass18.xml\n"
     ]
    }
   ],
   "source": [
    "# Nanti muncul python gui, pakai python gui itu buat extract fitur\n",
    "!cd {LABELIMG_PATH} && python labelImg.py"
   ]
  }
 ],
 "metadata": {
  "interpreter": {
   "hash": "82ed002fa2d4956f5c6aec99bcefe0f73a9f79882f3c9e2319b14958a5896ac5"
  },
  "kernelspec": {
   "display_name": "Python 3.9.6 64-bit",
   "language": "python",
   "name": "python3"
  },
  "language_info": {
   "codemirror_mode": {
    "name": "ipython",
    "version": 3
   },
   "file_extension": ".py",
   "mimetype": "text/x-python",
   "name": "python",
   "nbconvert_exporter": "python",
   "pygments_lexer": "ipython3",
   "version": "3.9.6"
  }
 },
 "nbformat": 4,
 "nbformat_minor": 2
}
